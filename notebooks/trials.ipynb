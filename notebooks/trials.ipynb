{
  "cells": [
    {
      "cell_type": "code",
      "execution_count": 1,
      "metadata": {
        "id": "ajbseI6wjBJD"
      },
      "outputs": [],
      "source": [
        "import tensorflow as tf\n",
        "import os\n",
        "from matplotlib import pyplot as plt\n",
        "import numpy as np\n",
        "import pandas as pd\n",
        "from sklearn.model_selection import train_test_split\n",
        "import re\n",
        "import string\n",
        "from keras.datasets import imdb"
      ]
    },
    {
      "cell_type": "code",
      "execution_count": 6,
      "metadata": {
        "id": "MdUFwXAelQ5X"
      },
      "outputs": [],
      "source": [
        "raw_data_df = pd.read_csv('./IMDB_Dataset.csv')"
      ]
    },
    {
      "cell_type": "code",
      "execution_count": 7,
      "metadata": {
        "colab": {
          "base_uri": "https://localhost:8080/",
          "height": 206
        },
        "id": "EUlB2abolUbW",
        "outputId": "6cc774bf-7e22-4db1-c005-d79e14b84566"
      },
      "outputs": [
        {
          "data": {
            "text/html": [
              "<div>\n",
              "<style scoped>\n",
              "    .dataframe tbody tr th:only-of-type {\n",
              "        vertical-align: middle;\n",
              "    }\n",
              "\n",
              "    .dataframe tbody tr th {\n",
              "        vertical-align: top;\n",
              "    }\n",
              "\n",
              "    .dataframe thead th {\n",
              "        text-align: right;\n",
              "    }\n",
              "</style>\n",
              "<table border=\"1\" class=\"dataframe\">\n",
              "  <thead>\n",
              "    <tr style=\"text-align: right;\">\n",
              "      <th></th>\n",
              "      <th>review</th>\n",
              "      <th>sentiment</th>\n",
              "    </tr>\n",
              "  </thead>\n",
              "  <tbody>\n",
              "    <tr>\n",
              "      <th>0</th>\n",
              "      <td>One of the other reviewers has mentioned that ...</td>\n",
              "      <td>positive</td>\n",
              "    </tr>\n",
              "    <tr>\n",
              "      <th>1</th>\n",
              "      <td>A wonderful little production. &lt;br /&gt;&lt;br /&gt;The...</td>\n",
              "      <td>positive</td>\n",
              "    </tr>\n",
              "    <tr>\n",
              "      <th>2</th>\n",
              "      <td>I thought this was a wonderful way to spend ti...</td>\n",
              "      <td>positive</td>\n",
              "    </tr>\n",
              "    <tr>\n",
              "      <th>3</th>\n",
              "      <td>Basically there's a family where a little boy ...</td>\n",
              "      <td>negative</td>\n",
              "    </tr>\n",
              "    <tr>\n",
              "      <th>4</th>\n",
              "      <td>Petter Mattei's \"Love in the Time of Money\" is...</td>\n",
              "      <td>positive</td>\n",
              "    </tr>\n",
              "  </tbody>\n",
              "</table>\n",
              "</div>"
            ],
            "text/plain": [
              "                                              review sentiment\n",
              "0  One of the other reviewers has mentioned that ...  positive\n",
              "1  A wonderful little production. <br /><br />The...  positive\n",
              "2  I thought this was a wonderful way to spend ti...  positive\n",
              "3  Basically there's a family where a little boy ...  negative\n",
              "4  Petter Mattei's \"Love in the Time of Money\" is...  positive"
            ]
          },
          "execution_count": 7,
          "metadata": {},
          "output_type": "execute_result"
        }
      ],
      "source": [
        "raw_data_df.head()"
      ]
    },
    {
      "cell_type": "code",
      "execution_count": null,
      "metadata": {
        "id": "4Wth7F6blXIc"
      },
      "outputs": [],
      "source": [
        "raw_data_df['sentiment'] = raw_data_df['sentiment'].apply(lambda row : 1 if row == 'positive' else 0)"
      ]
    },
    {
      "cell_type": "code",
      "execution_count": null,
      "metadata": {
        "colab": {
          "base_uri": "https://localhost:8080/",
          "height": 206
        },
        "id": "MS58Pke8lZ33",
        "outputId": "f0fc94d7-110d-4823-a363-c697115f4296"
      },
      "outputs": [
        {
          "data": {
            "text/html": [
              "\n",
              "  <div id=\"df-bc78b0c0-6bb1-48df-b906-2056fff83227\" class=\"colab-df-container\">\n",
              "    <div>\n",
              "<style scoped>\n",
              "    .dataframe tbody tr th:only-of-type {\n",
              "        vertical-align: middle;\n",
              "    }\n",
              "\n",
              "    .dataframe tbody tr th {\n",
              "        vertical-align: top;\n",
              "    }\n",
              "\n",
              "    .dataframe thead th {\n",
              "        text-align: right;\n",
              "    }\n",
              "</style>\n",
              "<table border=\"1\" class=\"dataframe\">\n",
              "  <thead>\n",
              "    <tr style=\"text-align: right;\">\n",
              "      <th></th>\n",
              "      <th>review</th>\n",
              "      <th>sentiment</th>\n",
              "    </tr>\n",
              "  </thead>\n",
              "  <tbody>\n",
              "    <tr>\n",
              "      <th>0</th>\n",
              "      <td>One of the other reviewers has mentioned that ...</td>\n",
              "      <td>1</td>\n",
              "    </tr>\n",
              "    <tr>\n",
              "      <th>1</th>\n",
              "      <td>A wonderful little production. &lt;br /&gt;&lt;br /&gt;The...</td>\n",
              "      <td>1</td>\n",
              "    </tr>\n",
              "    <tr>\n",
              "      <th>2</th>\n",
              "      <td>I thought this was a wonderful way to spend ti...</td>\n",
              "      <td>1</td>\n",
              "    </tr>\n",
              "    <tr>\n",
              "      <th>3</th>\n",
              "      <td>Basically there's a family where a little boy ...</td>\n",
              "      <td>0</td>\n",
              "    </tr>\n",
              "    <tr>\n",
              "      <th>4</th>\n",
              "      <td>Petter Mattei's \"Love in the Time of Money\" is...</td>\n",
              "      <td>1</td>\n",
              "    </tr>\n",
              "  </tbody>\n",
              "</table>\n",
              "</div>\n",
              "    <div class=\"colab-df-buttons\">\n",
              "\n",
              "  <div class=\"colab-df-container\">\n",
              "    <button class=\"colab-df-convert\" onclick=\"convertToInteractive('df-bc78b0c0-6bb1-48df-b906-2056fff83227')\"\n",
              "            title=\"Convert this dataframe to an interactive table.\"\n",
              "            style=\"display:none;\">\n",
              "\n",
              "  <svg xmlns=\"http://www.w3.org/2000/svg\" height=\"24px\" viewBox=\"0 -960 960 960\">\n",
              "    <path d=\"M120-120v-720h720v720H120Zm60-500h600v-160H180v160Zm220 220h160v-160H400v160Zm0 220h160v-160H400v160ZM180-400h160v-160H180v160Zm440 0h160v-160H620v160ZM180-180h160v-160H180v160Zm440 0h160v-160H620v160Z\"/>\n",
              "  </svg>\n",
              "    </button>\n",
              "\n",
              "  <style>\n",
              "    .colab-df-container {\n",
              "      display:flex;\n",
              "      gap: 12px;\n",
              "    }\n",
              "\n",
              "    .colab-df-convert {\n",
              "      background-color: #E8F0FE;\n",
              "      border: none;\n",
              "      border-radius: 50%;\n",
              "      cursor: pointer;\n",
              "      display: none;\n",
              "      fill: #1967D2;\n",
              "      height: 32px;\n",
              "      padding: 0 0 0 0;\n",
              "      width: 32px;\n",
              "    }\n",
              "\n",
              "    .colab-df-convert:hover {\n",
              "      background-color: #E2EBFA;\n",
              "      box-shadow: 0px 1px 2px rgba(60, 64, 67, 0.3), 0px 1px 3px 1px rgba(60, 64, 67, 0.15);\n",
              "      fill: #174EA6;\n",
              "    }\n",
              "\n",
              "    .colab-df-buttons div {\n",
              "      margin-bottom: 4px;\n",
              "    }\n",
              "\n",
              "    [theme=dark] .colab-df-convert {\n",
              "      background-color: #3B4455;\n",
              "      fill: #D2E3FC;\n",
              "    }\n",
              "\n",
              "    [theme=dark] .colab-df-convert:hover {\n",
              "      background-color: #434B5C;\n",
              "      box-shadow: 0px 1px 3px 1px rgba(0, 0, 0, 0.15);\n",
              "      filter: drop-shadow(0px 1px 2px rgba(0, 0, 0, 0.3));\n",
              "      fill: #FFFFFF;\n",
              "    }\n",
              "  </style>\n",
              "\n",
              "    <script>\n",
              "      const buttonEl =\n",
              "        document.querySelector('#df-bc78b0c0-6bb1-48df-b906-2056fff83227 button.colab-df-convert');\n",
              "      buttonEl.style.display =\n",
              "        google.colab.kernel.accessAllowed ? 'block' : 'none';\n",
              "\n",
              "      async function convertToInteractive(key) {\n",
              "        const element = document.querySelector('#df-bc78b0c0-6bb1-48df-b906-2056fff83227');\n",
              "        const dataTable =\n",
              "          await google.colab.kernel.invokeFunction('convertToInteractive',\n",
              "                                                    [key], {});\n",
              "        if (!dataTable) return;\n",
              "\n",
              "        const docLinkHtml = 'Like what you see? Visit the ' +\n",
              "          '<a target=\"_blank\" href=https://colab.research.google.com/notebooks/data_table.ipynb>data table notebook</a>'\n",
              "          + ' to learn more about interactive tables.';\n",
              "        element.innerHTML = '';\n",
              "        dataTable['output_type'] = 'display_data';\n",
              "        await google.colab.output.renderOutput(dataTable, element);\n",
              "        const docLink = document.createElement('div');\n",
              "        docLink.innerHTML = docLinkHtml;\n",
              "        element.appendChild(docLink);\n",
              "      }\n",
              "    </script>\n",
              "  </div>\n",
              "\n",
              "\n",
              "<div id=\"df-ec929f77-54c8-4d70-8ebb-d0d2d457abac\">\n",
              "  <button class=\"colab-df-quickchart\" onclick=\"quickchart('df-ec929f77-54c8-4d70-8ebb-d0d2d457abac')\"\n",
              "            title=\"Suggest charts.\"\n",
              "            style=\"display:none;\">\n",
              "\n",
              "<svg xmlns=\"http://www.w3.org/2000/svg\" height=\"24px\"viewBox=\"0 0 24 24\"\n",
              "     width=\"24px\">\n",
              "    <g>\n",
              "        <path d=\"M19 3H5c-1.1 0-2 .9-2 2v14c0 1.1.9 2 2 2h14c1.1 0 2-.9 2-2V5c0-1.1-.9-2-2-2zM9 17H7v-7h2v7zm4 0h-2V7h2v10zm4 0h-2v-4h2v4z\"/>\n",
              "    </g>\n",
              "</svg>\n",
              "  </button>\n",
              "\n",
              "<style>\n",
              "  .colab-df-quickchart {\n",
              "    background-color: #E8F0FE;\n",
              "    border: none;\n",
              "    border-radius: 50%;\n",
              "    cursor: pointer;\n",
              "    display: none;\n",
              "    fill: #1967D2;\n",
              "    height: 32px;\n",
              "    padding: 0 0 0 0;\n",
              "    width: 32px;\n",
              "  }\n",
              "\n",
              "  .colab-df-quickchart:hover {\n",
              "    background-color: #E2EBFA;\n",
              "    box-shadow: 0px 1px 2px rgba(60, 64, 67, 0.3), 0px 1px 3px 1px rgba(60, 64, 67, 0.15);\n",
              "    fill: #174EA6;\n",
              "  }\n",
              "\n",
              "  [theme=dark] .colab-df-quickchart {\n",
              "    background-color: #3B4455;\n",
              "    fill: #D2E3FC;\n",
              "  }\n",
              "\n",
              "  [theme=dark] .colab-df-quickchart:hover {\n",
              "    background-color: #434B5C;\n",
              "    box-shadow: 0px 1px 3px 1px rgba(0, 0, 0, 0.15);\n",
              "    filter: drop-shadow(0px 1px 2px rgba(0, 0, 0, 0.3));\n",
              "    fill: #FFFFFF;\n",
              "  }\n",
              "</style>\n",
              "\n",
              "  <script>\n",
              "    async function quickchart(key) {\n",
              "      const charts = await google.colab.kernel.invokeFunction(\n",
              "          'suggestCharts', [key], {});\n",
              "    }\n",
              "    (() => {\n",
              "      let quickchartButtonEl =\n",
              "        document.querySelector('#df-ec929f77-54c8-4d70-8ebb-d0d2d457abac button');\n",
              "      quickchartButtonEl.style.display =\n",
              "        google.colab.kernel.accessAllowed ? 'block' : 'none';\n",
              "    })();\n",
              "  </script>\n",
              "</div>\n",
              "    </div>\n",
              "  </div>\n"
            ],
            "text/plain": [
              "                                              review  sentiment\n",
              "0  One of the other reviewers has mentioned that ...          1\n",
              "1  A wonderful little production. <br /><br />The...          1\n",
              "2  I thought this was a wonderful way to spend ti...          1\n",
              "3  Basically there's a family where a little boy ...          0\n",
              "4  Petter Mattei's \"Love in the Time of Money\" is...          1"
            ]
          },
          "execution_count": 11,
          "metadata": {},
          "output_type": "execute_result"
        }
      ],
      "source": [
        "raw_data_df.head()"
      ]
    },
    {
      "cell_type": "code",
      "execution_count": null,
      "metadata": {
        "colab": {
          "base_uri": "https://localhost:8080/"
        },
        "id": "Q6dr8MwTlcdv",
        "outputId": "554ee254-c96b-4e80-f39f-7151069fc73d"
      },
      "outputs": [
        {
          "data": {
            "text/plain": [
              "25000"
            ]
          },
          "execution_count": 12,
          "metadata": {},
          "output_type": "execute_result"
        }
      ],
      "source": [
        "len(raw_data_df[raw_data_df['sentiment'] == 1])"
      ]
    },
    {
      "cell_type": "code",
      "execution_count": null,
      "metadata": {
        "colab": {
          "base_uri": "https://localhost:8080/"
        },
        "id": "-L_sy_Eale5r",
        "outputId": "970532ec-5e00-45bc-f62d-dd5b98fd1273"
      },
      "outputs": [
        {
          "data": {
            "text/plain": [
              "25000"
            ]
          },
          "execution_count": 13,
          "metadata": {},
          "output_type": "execute_result"
        }
      ],
      "source": [
        "len(raw_data_df[raw_data_df['sentiment'] == 0])"
      ]
    },
    {
      "cell_type": "code",
      "execution_count": null,
      "metadata": {
        "id": "zf2d9OTzlgpc"
      },
      "outputs": [],
      "source": [
        "features = raw_data_df['review'].to_numpy()\n",
        "labels = raw_data_df['sentiment'].to_numpy()"
      ]
    },
    {
      "cell_type": "code",
      "execution_count": null,
      "metadata": {
        "colab": {
          "base_uri": "https://localhost:8080/"
        },
        "id": "Gvfonx0vljDS",
        "outputId": "c72a332a-8921-4538-c57f-4a2ddcc57639"
      },
      "outputs": [
        {
          "data": {
            "text/plain": [
              "(50000,)"
            ]
          },
          "execution_count": 15,
          "metadata": {},
          "output_type": "execute_result"
        }
      ],
      "source": [
        "features.shape"
      ]
    },
    {
      "cell_type": "code",
      "execution_count": null,
      "metadata": {
        "colab": {
          "base_uri": "https://localhost:8080/"
        },
        "id": "FJdTloiZllJb",
        "outputId": "f11dd756-3631-4f5a-b858-458e96cdc239"
      },
      "outputs": [
        {
          "data": {
            "text/plain": [
              "(50000,)"
            ]
          },
          "execution_count": 16,
          "metadata": {},
          "output_type": "execute_result"
        }
      ],
      "source": [
        "labels.shape"
      ]
    },
    {
      "cell_type": "code",
      "execution_count": null,
      "metadata": {
        "id": "0iMEAXDclnB8"
      },
      "outputs": [],
      "source": [
        "features_train, features_test, labels_train, labels_test = train_test_split(features, labels, test_size=0.4, random_state = 0)"
      ]
    },
    {
      "cell_type": "code",
      "execution_count": null,
      "metadata": {
        "id": "MDsvJt9zlqQ2"
      },
      "outputs": [],
      "source": [
        "features_valid, features_test, labels_valid, labels_test = train_test_split(features_test, labels_test, test_size=0.5, random_state=0)"
      ]
    },
    {
      "cell_type": "code",
      "execution_count": null,
      "metadata": {
        "id": "DhfGtFzmlsPy"
      },
      "outputs": [],
      "source": [
        "features_train = tf.convert_to_tensor(features_train)\n",
        "labels_train = tf.convert_to_tensor(labels_train)"
      ]
    },
    {
      "cell_type": "code",
      "execution_count": null,
      "metadata": {
        "id": "TBcyKd0elvZ6"
      },
      "outputs": [],
      "source": [
        "features_valid = tf.convert_to_tensor(features_valid)\n",
        "labels_valid = tf.convert_to_tensor(labels_valid)"
      ]
    },
    {
      "cell_type": "code",
      "execution_count": null,
      "metadata": {
        "id": "GBxI4oq-lyey"
      },
      "outputs": [],
      "source": [
        "features_test = tf.convert_to_tensor(features_test)\n",
        "labels_test = tf.convert_to_tensor(labels_test)"
      ]
    },
    {
      "cell_type": "code",
      "execution_count": null,
      "metadata": {
        "colab": {
          "base_uri": "https://localhost:8080/"
        },
        "id": "2xdjXAJDl2a0",
        "outputId": "2ef06c31-1a98-4d32-e48a-c559567e9105"
      },
      "outputs": [
        {
          "data": {
            "text/plain": [
              "(<tf.Tensor: shape=(), dtype=string, numpy=b'Liked Stanley & Iris very much. Acting was very good. Story had a unique and interesting arrangement. The absence of violence and porno sex was refreshing. Characters were very convincing and felt like you could understand their feelings. Very enjoyable movie.'>,\n",
              " <tf.Tensor: shape=(), dtype=int64, numpy=1>)"
            ]
          },
          "execution_count": 22,
          "metadata": {},
          "output_type": "execute_result"
        }
      ],
      "source": [
        "train_ds = tf.data.Dataset.from_tensor_slices((features_train, labels_train))\n",
        "next(iter(train_ds))"
      ]
    },
    {
      "cell_type": "code",
      "execution_count": null,
      "metadata": {
        "colab": {
          "base_uri": "https://localhost:8080/"
        },
        "id": "XB1jaRYel5w6",
        "outputId": "8da5f27f-720b-4fbf-dccb-4191d21cb412"
      },
      "outputs": [
        {
          "data": {
            "text/plain": [
              "(<tf.Tensor: shape=(), dtype=string, numpy=b'This version of \"The Magic Flute\" is not only the worst production of Mozart\\'s great opera that I have ever seen, it is also the worst video production I have seen of any opera.<br /><br />I\\'m a big opera fan and I have more opera on DVD than movies. The sets are cheap and cheesy. Papageno doesn\\'t even have a bird costume. He is just dressed like some guy. The sound is in mono. The color is really bad. It is saturated in orange. Most DVD\\'s from this period have the color digitally restored, but they did not bother with this one. Also, the language has been changed to Swedish instead of the original German.<br /><br />This is not a movie version of \"The Magic Flute.\" It is a filmed performance and it is not a good performance and it was not filmed very well. You can pick any other available DVD of this opera and I guarantee it will be better than this one. My preference is for the version conducted by James Levine with sets by David Hockney.'>,\n",
              " <tf.Tensor: shape=(), dtype=int64, numpy=0>)"
            ]
          },
          "execution_count": 23,
          "metadata": {},
          "output_type": "execute_result"
        }
      ],
      "source": [
        "valid_ds = tf.data.Dataset.from_tensor_slices((features_valid, labels_valid))\n",
        "next(iter(valid_ds))"
      ]
    },
    {
      "cell_type": "code",
      "execution_count": null,
      "metadata": {
        "colab": {
          "base_uri": "https://localhost:8080/"
        },
        "id": "IA-DLe4hl8sI",
        "outputId": "2b3f25ca-e80f-47b4-919b-30d50413bb3c"
      },
      "outputs": [
        {
          "data": {
            "text/plain": [
              "(<tf.Tensor: shape=(), dtype=string, numpy=b\"Leslie Nielson is a very talented actor, who made a huge mistake by doing this film. It doesn't even come close to being funny. The best word to describe it is STUPID!\">,\n",
              " <tf.Tensor: shape=(), dtype=int64, numpy=0>)"
            ]
          },
          "execution_count": 24,
          "metadata": {},
          "output_type": "execute_result"
        }
      ],
      "source": [
        "test_ds = tf.data.Dataset.from_tensor_slices((features_test, labels_test))\n",
        "next(iter(test_ds))"
      ]
    },
    {
      "cell_type": "code",
      "execution_count": null,
      "metadata": {
        "id": "4XhsvvBsl_iq"
      },
      "outputs": [],
      "source": [
        "BATCH_SIZE = 64"
      ]
    },
    {
      "cell_type": "code",
      "execution_count": null,
      "metadata": {
        "colab": {
          "base_uri": "https://localhost:8080/"
        },
        "id": "jGSok0oGmBuB",
        "outputId": "d16b0df6-69ef-4a7f-fbbd-2ee5f9f6538f"
      },
      "outputs": [
        {
          "data": {
            "text/plain": [
              "<tf.Tensor: shape=(), dtype=int64, numpy=469>"
            ]
          },
          "execution_count": 26,
          "metadata": {},
          "output_type": "execute_result"
        }
      ],
      "source": [
        "train_ds = train_ds.batch(batch_size=BATCH_SIZE)\n",
        "train_ds.cardinality()"
      ]
    },
    {
      "cell_type": "code",
      "execution_count": null,
      "metadata": {
        "colab": {
          "base_uri": "https://localhost:8080/"
        },
        "id": "z1aqfsk4mFka",
        "outputId": "ff851a4a-88da-4afd-ca2d-4490fc944ddc"
      },
      "outputs": [
        {
          "data": {
            "text/plain": [
              "<tf.Tensor: shape=(), dtype=int64, numpy=469>"
            ]
          },
          "execution_count": 27,
          "metadata": {},
          "output_type": "execute_result"
        }
      ],
      "source": [
        "valid_ds = valid_ds.batch(batch_size=BATCH_SIZE)\n",
        "train_ds.cardinality()"
      ]
    },
    {
      "cell_type": "code",
      "execution_count": null,
      "metadata": {
        "colab": {
          "base_uri": "https://localhost:8080/"
        },
        "id": "WPuKAwl6mIKv",
        "outputId": "04e3ef08-982f-40b4-bbb9-40fd4a4ff771"
      },
      "outputs": [
        {
          "data": {
            "text/plain": [
              "<tf.Tensor: shape=(), dtype=int64, numpy=157>"
            ]
          },
          "execution_count": 28,
          "metadata": {},
          "output_type": "execute_result"
        }
      ],
      "source": [
        "test_ds = test_ds.batch(batch_size=BATCH_SIZE)\n",
        "test_ds.cardinality()"
      ]
    },
    {
      "cell_type": "code",
      "execution_count": null,
      "metadata": {
        "id": "zcUFudU3mK1w"
      },
      "outputs": [],
      "source": [
        "AUTOTUNE = tf.data.AUTOTUNE"
      ]
    },
    {
      "cell_type": "code",
      "execution_count": null,
      "metadata": {
        "id": "b4AzJi-ymOlw"
      },
      "outputs": [],
      "source": [
        "train_ds = train_ds.prefetch(buffer_size=AUTOTUNE)\n",
        "valid_ds = valid_ds.prefetch(buffer_size=AUTOTUNE)\n",
        "test_ds = test_ds.prefetch(buffer_size=AUTOTUNE)"
      ]
    },
    {
      "cell_type": "code",
      "execution_count": null,
      "metadata": {
        "id": "0IQbE9_4mQ35"
      },
      "outputs": [],
      "source": [
        "def custom_standardization(input_data):\n",
        "  std_text = tf.strings.lower(input_data)#remove any urls from the text\n",
        "  std_text = tf.strings.regex_replace(std_text, r\"https:\\/\\/.*[\\r\\n]*\", '')\n",
        "  std_text = tf.strings.regex_replace(std_text, r\"www\\.\\w*\\.\\w\\w\\w\", '')\n",
        "  std_text = tf.strings.regex_replace(std_text, r\"<[\\w]*[\\s]*/>\", '')\n",
        "  std_text = tf.strings.regex_replace(std_text, '[%s]' % re.escape(string.punctuation), '')\n",
        "  std_text = tf.strings.regex_replace(std_text, '\\s{2}', '')\n",
        "  std_text = tf.strings.strip(std_text)\n",
        "  return std_text"
      ]
    },
    {
      "cell_type": "code",
      "execution_count": null,
      "metadata": {
        "colab": {
          "base_uri": "https://localhost:8080/"
        },
        "id": "KRXbbGlbmV0r",
        "outputId": "27ed1926-719c-4fe5-85e4-1f6c82558f36"
      },
      "outputs": [
        {
          "data": {
            "text/plain": [
              "b'hello i am here why are you upset'"
            ]
          },
          "execution_count": 32,
          "metadata": {},
          "output_type": "execute_result"
        }
      ],
      "source": [
        "custom_standardization(\"Hello ! <br /> I am here. Why are you upset ?\").numpy()"
      ]
    },
    {
      "cell_type": "code",
      "execution_count": null,
      "metadata": {
        "id": "jozBnyOmmZnc"
      },
      "outputs": [],
      "source": [
        "VOCAB_SIZE = 1000"
      ]
    },
    {
      "cell_type": "code",
      "execution_count": null,
      "metadata": {
        "id": "VOE17mqBmeNB"
      },
      "outputs": [],
      "source": [
        "vectorizer_layer = tf.keras.layers.experimental.preprocessing.TextVectorization(max_tokens=VOCAB_SIZE,\n",
        "                                                                                standardize=custom_standardization)\n",
        "                                                                                #output_mode='tf_idf')"
      ]
    },
    {
      "cell_type": "code",
      "execution_count": null,
      "metadata": {
        "id": "l6JLaDVEmgWe"
      },
      "outputs": [],
      "source": [
        "vectorizer_layer.adapt(train_ds.map(lambda text, label: text))"
      ]
    },
    {
      "cell_type": "code",
      "execution_count": null,
      "metadata": {
        "colab": {
          "base_uri": "https://localhost:8080/"
        },
        "id": "tfJC1fnRmifR",
        "outputId": "b8ecd901-5085-466a-a262-c2e19ad3c8f6"
      },
      "outputs": [
        {
          "data": {
            "text/plain": [
              "array(['', '[UNK]', 'the', 'a', 'and', 'of', 'to', 'is', 'in', 'it',\n",
              "       'this', 'i', 'that', 'was', 'as', 'with', 'for', 'movie', 'but',\n",
              "       'film'], dtype='<U14')"
            ]
          },
          "execution_count": 36,
          "metadata": {},
          "output_type": "execute_result"
        }
      ],
      "source": [
        "vocab = np.array(vectorizer_layer.get_vocabulary())\n",
        "vocab[:20]"
      ]
    },
    {
      "cell_type": "code",
      "execution_count": null,
      "metadata": {
        "id": "WxIFnUM_mkwv"
      },
      "outputs": [],
      "source": [
        "examples, labels = next(iter(train_ds.take(1)))"
      ]
    },
    {
      "cell_type": "code",
      "execution_count": null,
      "metadata": {
        "colab": {
          "base_uri": "https://localhost:8080/"
        },
        "id": "1gWH8WU0moYH",
        "outputId": "7cb768e0-6b4c-424c-dbce-65fdd38612b1"
      },
      "outputs": [
        {
          "data": {
            "text/plain": [
              "<tf.Tensor: shape=(3,), dtype=string, numpy=\n",
              "array([b'Liked Stanley & Iris very much. Acting was very good. Story had a unique and interesting arrangement. The absence of violence and porno sex was refreshing. Characters were very convincing and felt like you could understand their feelings. Very enjoyable movie.',\n",
              "       b\"The Mummy's Curse is the last in the series of the Kharis mummy films, and it seems that creativity had run somewhat dry by the time they made this one. Kharis and his mate Ananka both end up in the bayous of Louisiana, and on his resurrection, he searches out his beloved princess. How they end up in Louisiana isn't made entirely clear, but with various people trying to find them, the viewer can be assured of some mummy murders.<br /><br />The Mummy's Curse was watchable, but it really wasn't anything special. I had the feeling throughout the movie that I'd seen this before. Quite frankly, apart from the original The Mummy with Boris Karloff, the Mummy movies are not my favorites among the old Universal horrors. They're not bad, but they do get a bit repetitive.<br /><br />There are some great scenes in the movie (the scene with Ananka coming to life in the swamp for instance) but overall this didn't do much for me.<br /><br />It's worth seeing if you want to be completest and see all of the mummy movies, but otherwise you might want to pass on this one.\",\n",
              "       b'\"Best in Show\" is a often hilarious mockumentary that takes us into the world of dog shows and some of the dog owners who prepare for the event. The only thing that separates this movie from real dog shows is that the dogs in \"Best in Show\" act more sane than their owners! Funny stuff from a top-notch cast that includes Eugene Levy (who co-wrote the film), Catherine O\\'Hara, Parker Posey, Michael McKean, Jennifer Coolidge, Jane Lynch, and Christopher Guest (who co-wrote with Levy and directed). They\\'re all funny, but Fred Willard steals the movie with his explosively funny performance as the dog show announcer who says the most outrageous things. Plus the dogs are cute too. \"Best in Show\" isn\\'t exactly the laugh riot that I expected, but there are laughs and it\\'s worth seeing.<br /><br />*** (out of four)'],\n",
              "      dtype=object)>"
            ]
          },
          "execution_count": 38,
          "metadata": {},
          "output_type": "execute_result"
        }
      ],
      "source": [
        "examples[ : 3]"
      ]
    },
    {
      "cell_type": "code",
      "execution_count": null,
      "metadata": {
        "id": "BYWcnds9mq3Y"
      },
      "outputs": [],
      "source": [
        "vectorized_examples = vectorizer_layer(examples)"
      ]
    },
    {
      "cell_type": "code",
      "execution_count": null,
      "metadata": {
        "colab": {
          "base_uri": "https://localhost:8080/"
        },
        "id": "vEgh03bAmvnN",
        "outputId": "4f9d6ed7-002d-454a-bda9-7defb433445b"
      },
      "outputs": [
        {
          "data": {
            "text/plain": [
              "TensorShape([64, 856])"
            ]
          },
          "execution_count": 40,
          "metadata": {},
          "output_type": "execute_result"
        }
      ],
      "source": [
        "vectorized_examples.shape"
      ]
    },
    {
      "cell_type": "code",
      "execution_count": null,
      "metadata": {
        "colab": {
          "base_uri": "https://localhost:8080/"
        },
        "id": "GxnAUrOZmyWt",
        "outputId": "64cef5a8-d798-41ee-9a4f-ce4372e3e3c8"
      },
      "outputs": [
        {
          "data": {
            "text/plain": [
              "<tf.Tensor: shape=(3, 856), dtype=int64, numpy=\n",
              "array([[410,   1,  51, ...,   0,   0,   0],\n",
              "       [  2,   1,   1, ...,   0,   0,   0],\n",
              "       [114,   8, 118, ...,   0,   0,   0]])>"
            ]
          },
          "execution_count": 41,
          "metadata": {},
          "output_type": "execute_result"
        }
      ],
      "source": [
        "vectorized_examples[ : 3]"
      ]
    },
    {
      "cell_type": "code",
      "execution_count": null,
      "metadata": {
        "colab": {
          "base_uri": "https://localhost:8080/"
        },
        "id": "c4K5nTrqm0aY",
        "outputId": "9c8dbe00-ab4a-4987-eb98-2e61599f1790"
      },
      "outputs": [
        {
          "data": {
            "text/plain": [
              "TensorShape([64])"
            ]
          },
          "execution_count": 42,
          "metadata": {},
          "output_type": "execute_result"
        }
      ],
      "source": [
        "examples.shape"
      ]
    },
    {
      "cell_type": "code",
      "execution_count": null,
      "metadata": {
        "id": "_lPbO6eCm2bs"
      },
      "outputs": [],
      "source": [
        "model = tf.keras.Sequential([ vectorizer_layer,\n",
        "                              tf.keras.layers.Embedding(input_dim=VOCAB_SIZE, output_dim=64),\n",
        "                              tf.keras.layers.Bidirectional(tf.keras.layers.LSTM(64)),\n",
        "                              tf.keras.layers.Dense(64, activation = 'relu'),\n",
        "                              tf.keras.layers.Dense(1, ) ])"
      ]
    },
    {
      "cell_type": "code",
      "execution_count": null,
      "metadata": {
        "colab": {
          "base_uri": "https://localhost:8080/"
        },
        "id": "i9bnajpmm7FS",
        "outputId": "52abe1be-66bd-4d8e-91db-d997a8e083d6"
      },
      "outputs": [
        {
          "name": "stdout",
          "output_type": "stream",
          "text": [
            "1/1 [==============================] - 5s 5s/step\n",
            "[-0.0046994]\n"
          ]
        }
      ],
      "source": [
        "sample_text = ('The movie was cool. The animation and the graphics '\n",
        "               'were out of this world. I would recommend this movie.')\n",
        "predictions = model.predict(np.array([sample_text]))\n",
        "print(predictions[0])"
      ]
    },
    {
      "cell_type": "code",
      "execution_count": null,
      "metadata": {
        "id": "Y1kBRggGm-RC"
      },
      "outputs": [],
      "source": [
        "model.compile(loss=tf.keras.losses.BinaryCrossentropy(from_logits=True),\n",
        "              optimizer=tf.keras.optimizers.Adam(1e-4),\n",
        "              metrics=['accuracy'])"
      ]
    },
    {
      "cell_type": "code",
      "execution_count": null,
      "metadata": {
        "colab": {
          "base_uri": "https://localhost:8080/"
        },
        "id": "xXtdTzRXnCak",
        "outputId": "94fca14a-4d9d-45e3-dca3-c316cadf7417"
      },
      "outputs": [
        {
          "name": "stdout",
          "output_type": "stream",
          "text": [
            "Model: \"sequential\"\n",
            "_________________________________________________________________\n",
            " Layer (type)                Output Shape              Param #   \n",
            "=================================================================\n",
            " text_vectorization (TextVec  (None, None)             0         \n",
            " torization)                                                     \n",
            "                                                                 \n",
            " embedding (Embedding)       (None, None, 64)          64000     \n",
            "                                                                 \n",
            " bidirectional (Bidirectiona  (None, 128)              66048     \n",
            " l)                                                              \n",
            "                                                                 \n",
            " dense (Dense)               (None, 64)                8256      \n",
            "                                                                 \n",
            " dense_1 (Dense)             (None, 1)                 65        \n",
            "                                                                 \n",
            "=================================================================\n",
            "Total params: 138,369\n",
            "Trainable params: 138,369\n",
            "Non-trainable params: 0\n",
            "_________________________________________________________________\n"
          ]
        }
      ],
      "source": [
        "model.summary()"
      ]
    },
    {
      "cell_type": "code",
      "execution_count": null,
      "metadata": {
        "colab": {
          "base_uri": "https://localhost:8080/",
          "height": 644
        },
        "id": "rOesIZ0ynFLK",
        "outputId": "0f46a0bf-0fd9-463f-f363-9a86aafa3448"
      },
      "outputs": [
        {
          "data": {
            "image/png": "[encoded data removed]",
            "text/plain": [
              "<IPython.core.display.Image object>"
            ]
          },
          "execution_count": 47,
          "metadata": {},
          "output_type": "execute_result"
        }
      ],
      "source": [
        "tf.keras.utils.plot_model(model, show_shapes=True)"
      ]
    },
    {
      "cell_type": "code",
      "execution_count": null,
      "metadata": {
        "colab": {
          "base_uri": "https://localhost:8080/"
        },
        "id": "-IRHXQ3-nIyK",
        "outputId": "731e06fd-a236-45fb-eb3c-bc2c7e6df057"
      },
      "outputs": [
        {
          "name": "stdout",
          "output_type": "stream",
          "text": [
            "Epoch 1/10\n",
            "469/469 [==============================] - 62s 117ms/step - loss: 0.6664 - accuracy: 0.5315 - val_loss: 0.4976 - val_accuracy: 0.7394\n",
            "Epoch 2/10\n",
            "469/469 [==============================] - 34s 72ms/step - loss: 0.4079 - accuracy: 0.8100 - val_loss: 0.3716 - val_accuracy: 0.8341\n",
            "Epoch 3/10\n",
            "469/469 [==============================] - 33s 69ms/step - loss: 0.3418 - accuracy: 0.8511 - val_loss: 0.3538 - val_accuracy: 0.8435\n",
            "Epoch 4/10\n",
            "469/469 [==============================] - 33s 70ms/step - loss: 0.3266 - accuracy: 0.8598 - val_loss: 0.3508 - val_accuracy: 0.8503\n",
            "Epoch 5/10\n",
            "469/469 [==============================] - 34s 72ms/step - loss: 0.3171 - accuracy: 0.8642 - val_loss: 0.3505 - val_accuracy: 0.8523\n",
            "Epoch 6/10\n",
            "469/469 [==============================] - 34s 72ms/step - loss: 0.3109 - accuracy: 0.8672 - val_loss: 0.3516 - val_accuracy: 0.8534\n",
            "Epoch 7/10\n",
            "469/469 [==============================] - 32s 68ms/step - loss: 0.3079 - accuracy: 0.8682 - val_loss: 0.3518 - val_accuracy: 0.8544\n",
            "Epoch 8/10\n",
            "469/469 [==============================] - 34s 72ms/step - loss: 0.3055 - accuracy: 0.8686 - val_loss: 0.3508 - val_accuracy: 0.8538\n",
            "Epoch 9/10\n",
            "469/469 [==============================] - 33s 70ms/step - loss: 0.3041 - accuracy: 0.8688 - val_loss: 0.3505 - val_accuracy: 0.8547\n",
            "Epoch 10/10\n",
            "469/469 [==============================] - 32s 69ms/step - loss: 0.3033 - accuracy: 0.8699 - val_loss: 0.3503 - val_accuracy: 0.8552\n"
          ]
        }
      ],
      "source": [
        "history = model.fit(train_ds,\n",
        "                    epochs=10,\n",
        "                    validation_data=valid_ds)"
      ]
    },
    {
      "cell_type": "code",
      "execution_count": null,
      "metadata": {
        "colab": {
          "base_uri": "https://localhost:8080/"
        },
        "id": "4PnTRBmLnM_t",
        "outputId": "6c40e210-31e3-4cab-c36c-c26628d254e2"
      },
      "outputs": [
        {
          "name": "stdout",
          "output_type": "stream",
          "text": [
            "157/157 [==============================] - 4s 28ms/step - loss: 0.3402 - accuracy: 0.8569\n",
            "Test Loss: 0.34017491340637207\n",
            "Test Accuracy: 0.8568999767303467\n"
          ]
        }
      ],
      "source": [
        "test_loss, test_acc = model.evaluate(test_ds)\n",
        "print('Test Loss:', test_loss)\n",
        "print('Test Accuracy:', test_acc)"
      ]
    },
    {
      "cell_type": "code",
      "execution_count": null,
      "metadata": {
        "colab": {
          "base_uri": "https://localhost:8080/",
          "height": 472
        },
        "id": "n3DcahBcnUuc",
        "outputId": "215801e3-2c1e-49e7-8121-0b2e16c9fa97"
      },
      "outputs": [
        {
          "data": {
            "image/png": "[encoded data removed]",
            "text/plain": [
              "<Figure size 640x480 with 1 Axes>"
            ]
          },
          "metadata": {},
          "output_type": "display_data"
        }
      ],
      "source": [
        "import matplotlib.pyplot as plt\n",
        "\n",
        "plt.plot(history.history[\"loss\"], \"x-\", label=\"Train_Loss\")\n",
        "plt.plot(history.history[\"val_loss\"], \"x-\", label=\"Valid_Loss\")\n",
        "plt.plot(history.history[\"accuracy\"], \"x-\", label=\"Train_Accuracy\")\n",
        "plt.plot(history.history[\"val_accuracy\"], \"x-\", label=\"Valid_Accuracy\")\n",
        "plt.title(\"Train And Valid Loss & Accuracy\")\n",
        "plt.legend(loc=\"best\")\n",
        "plt.xlabel(\"Epoch\")\n",
        "plt.ylabel(\"Loss\")\n",
        "plt.show()\n"
      ]
    }
  ],
  "metadata": {
    "accelerator": "GPU",
    "colab": {
      "gpuType": "T4",
      "provenance": []
    },
    "gpuClass": "standard",
    "kernelspec": {
      "display_name": "Python 3",
      "name": "python3"
    },
    "language_info": {
      "codemirror_mode": {
        "name": "ipython",
        "version": 3
      },
      "file_extension": ".py",
      "mimetype": "text/x-python",
      "name": "python",
      "nbconvert_exporter": "python",
      "pygments_lexer": "ipython3",
      "version": "3.8.10"
    }
  },
  "nbformat": 4,
  "nbformat_minor": 0
}
